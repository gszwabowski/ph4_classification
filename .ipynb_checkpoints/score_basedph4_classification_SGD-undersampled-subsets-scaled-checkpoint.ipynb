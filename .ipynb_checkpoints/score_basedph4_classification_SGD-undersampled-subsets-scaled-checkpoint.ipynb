{
 "cells": [
  {
   "cell_type": "code",
   "execution_count": 2,
   "metadata": {
    "scrolled": false
   },
   "outputs": [],
   "source": [
    "import numpy as np\n",
    "from sklearn import preprocessing, neighbors\n",
    "from sklearn import model_selection\n",
    "from sklearn.model_selection import train_test_split\n",
    "from sklearn.linear_model import LogisticRegression\n",
    "from sklearn.preprocessing import StandardScaler\n",
    "from sklearn.metrics import confusion_matrix\n",
    "from sklearn.cluster import KMeans\n",
    "from typing import Tuple\n",
    "from sklearn import model_selection\n",
    "from sklearn.metrics import classification_report\n",
    "\n",
    "import pandas as pd"
   ]
  },
  {
   "cell_type": "code",
   "execution_count": 3,
   "metadata": {},
   "outputs": [],
   "source": [
    "from sklearn.linear_model import SGDClassifier\n",
    "from sklearn.model_selection import train_test_split\n",
    "from sklearn.metrics import confusion_matrix\n",
    "from sklearn.metrics import classification_report\n",
    "from sklearn.preprocessing import scale"
   ]
  },
  {
   "cell_type": "code",
   "execution_count": 4,
   "metadata": {},
   "outputs": [],
   "source": [
    "#scale each feature\n",
    "def scale_features(X_train: pd.DataFrame, X_test: pd.DataFrame) -> Tuple[pd.DataFrame, pd.DataFrame]:\n",
    "    \"\"\"\n",
    "    applies standard scaler (z-scores) to training data and predicts z-scores for the test set\n",
    "    \"\"\"\n",
    "    scaler = StandardScaler()\n",
    "    to_scale = [col for col in X_train.columns.values]\n",
    "    scaler.fit(X_train[to_scale])\n",
    "    X_train[to_scale] = scaler.transform(X_train[to_scale])\n",
    "    \n",
    "    # predict z-scores on the test set\n",
    "    X_test[to_scale] = scaler.transform(X_test[to_scale])\n",
    "    \n",
    "    return X_train, X_test\n",
    "\n"
   ]
  },
  {
   "cell_type": "code",
   "execution_count": 7,
   "metadata": {
    "scrolled": true
   },
   "outputs": [
    {
     "name": "stdout",
     "output_type": "stream",
     "text": [
      "Predictors: ['Hits', 'max_feat', 'avg_feat', 'max_centr', 'min_centr', 'avg_centr', 'features', 'all_same', 'hyd_prop', 'catdon_prop', 'aniacc_prop'] \n",
      "\n",
      "x_train Q ph4s: 2711 \n",
      "\n",
      "x_test Q ph4s: 910 \n",
      "\n",
      "Predicted    0    1\n",
      "Actual             \n",
      "0          703  198\n",
      "1          142  768 \n",
      "\n",
      "PPV: 0.80 \n",
      "\n"
     ]
    }
   ],
   "source": [
    "df = pd.read_csv('..\\..\\data\\_All_Receptors_runs_1_2_3_binary.csv')\n",
    "df.drop(['min_feat','s_score','receptor','Active_Rate','Enrichment', 'GH', 'Actives', 'filename', 'fbase', 'hyd', 'don', 'acc', 'ani', 'cat', 'aro', 'donhyd', 'catdon', 'hydaro', 'aniacc', 'donacc','don_prop', 'acc_prop', 'ani_prop', 'cat_prop', 'aro_prop', 'donhyd_prop', 'hydaro_prop', 'donacc_prop'], 1, inplace=True)\n",
    "df.fillna(-99999)\n",
    "\n",
    "predictors = list(df.columns)\n",
    "predictors = predictors[:-1]\n",
    "\n",
    "print('Predictors:', predictors,'\\n')\n",
    "\n",
    "np.random.seed(42)\n",
    "\n",
    "#split data into quality/not quality sets\n",
    "q_ph4s = df[df['quality'] == 1]\n",
    "nq_ph4s = df[df['quality'] != 1]\n",
    "\n",
    "#ensure that there is an equal number of nq ph4s\n",
    "nq_ph4s = nq_ph4s.sample(n=1*len(q_ph4s))\n",
    "\n",
    "#merge arrays prior to TTS\n",
    "frames = [q_ph4s, nq_ph4s]\n",
    "df = pd.concat(frames)\n",
    "\n",
    "#x is features, y is classes\n",
    "x = df.drop('quality', 1)\n",
    "y = df.quality\n",
    "\n",
    "x_train, x_test, y_train, y_test = train_test_split(x, y, test_size=0.25, random_state=0)\n",
    "\n",
    "\n",
    "print(\"x_train Q ph4s:\", y_train.sum(),'\\n')\n",
    "print(\"x_test Q ph4s:\",y_test.sum(),'\\n')\n",
    "\n",
    "X_train_scaled, X_test_scaled = scale_features(x_train, x_test)\n",
    "\n",
    "#LR model\n",
    "sgdc = SGDClassifier(loss=\"log\", penalty=\"l2\", max_iter=1000, tol=1e-3, class_weight='balanced')\n",
    "sgdc.fit(X_train_scaled, y_train)\n",
    "\n",
    "y_pred = (sgdc.predict(X_test_scaled))\n",
    "confmat = confusion_matrix(y_test, y_pred, labels=[0,1])\n",
    "#print(confmat)\n",
    "\n",
    "confmat = confusion_matrix(y_test, y_pred, labels=[0,1]).ravel()\n",
    "FP = (confmat[1])\n",
    "TP = (confmat[3])\n",
    "\n",
    "PPV = (TP / (TP + FP))\n",
    "\n",
    "cm = pd.crosstab(y_test, y_pred, rownames=['Actual'], colnames=['Predicted'], margins=False)\n",
    "\n",
    "#print('0 cluster model\\n')\n",
    "print(cm,'\\n')\n",
    "\n",
    "print('PPV:', format(PPV, '.2f'),'\\n')"
   ]
  },
  {
   "cell_type": "code",
   "execution_count": 8,
   "metadata": {
    "scrolled": true
   },
   "outputs": [],
   "source": [
    "def scale_features_single(X: pd.DataFrame) -> Tuple[pd.DataFrame, pd.DataFrame]:\n",
    "    \"\"\"\n",
    "    applies standard scaler (z-scores) to training data and predicts z-scores for the test set\n",
    "    \"\"\"\n",
    "    scaler = StandardScaler()\n",
    "    to_scale = [col for col in X.columns.values]\n",
    "    scaler.fit(X[to_scale])\n",
    "    X[to_scale] = scaler.transform(X[to_scale])\n",
    "    \n",
    "    return X\n",
    "\n",
    "def classify_ext_data(subset):\n",
    "    #CLassify external data (score based pharmacophore models)\n",
    "    if subset == \"moe\":\n",
    "        ext_df = pd.read_csv('..\\..\\data\\score_based_moefrags_data_binary.csv')\n",
    "    elif subset == \"EF\":\n",
    "        ext_df = pd.read_csv('..\\..\\data\\score_based_efdata_binary.csv')\n",
    "    elif subset == \"GH\":\n",
    "        ext_df = pd.read_csv('..\\..\\data\\score_based_ghdata_binary.csv')\n",
    "    elif subset == \"all\":\n",
    "        ext_df = pd.read_csv('..\\..\\data\\score_based_alldata_binary.csv')\n",
    "        \n",
    "    ext_df.drop(['min_feat','Receptor', 'Score Type','Enrichment',  'hyd', 'don', 'acc', 'donhyd', 'catdon', 'hydaro', 'aniacc', 'donacc', 'don_prop', 'acc_prop', 'donhyd_prop', 'hydaro_prop', 'donacc_prop'], 1, inplace=True)\n",
    "    ext_df.fillna(-99999)\n",
    "    x = ext_df.drop('quality', 1)\n",
    "    y = ext_df.quality\n",
    "    \n",
    "    predictors = list(ext_df.columns)\n",
    "    predictors = predictors[:-1]\n",
    "    print('Predictors:', predictors,'\\n')\n",
    "    \n",
    "    print(\"score based Q ph4s:\", y.sum(),'\\n')\n",
    "    \n",
    "    X_scaled = scale_features_single(x)\n",
    "    \n",
    "    #predict based on 0 cluster model\n",
    "    y_pred = (sgdc.predict(X_scaled))\n",
    "    confmat = confusion_matrix(y, y_pred, labels=[0,1])\n",
    "    #print(confmat)\n",
    "\n",
    "    confmat = confusion_matrix(y, y_pred, labels=[0,1]).ravel()\n",
    "    FP = (confmat[1])\n",
    "    TP = (confmat[3])\n",
    "\n",
    "    PPV = (TP / (TP + FP))\n",
    "\n",
    "    cm = pd.crosstab(y, y_pred, rownames=['Actual'], colnames=['Predicted'], margins=False)\n",
    "\n",
    "    print('0 cluster model\\n')\n",
    "    print(cm,'\\n')\n",
    "\n",
    "    print('PPV:', format(PPV, '.2f'),'\\n')"
   ]
  },
  {
   "cell_type": "code",
   "execution_count": 13,
   "metadata": {
    "scrolled": true
   },
   "outputs": [
    {
     "name": "stdout",
     "output_type": "stream",
     "text": [
      "Predictors: ['Hits', 'max_feat', 'avg_feat', 'max_centr', 'min_centr', 'avg_centr', 'features', 'all_same', 'hyd_prop', 'catdon_prop', 'aniacc_prop'] \n",
      "\n",
      "score based Q ph4s: 111 \n",
      "\n",
      "0 cluster model\n",
      "\n",
      "Predicted   0   1\n",
      "Actual           \n",
      "0          28  17\n",
      "1          90  21 \n",
      "\n",
      "PPV: 0.55 \n",
      "\n"
     ]
    }
   ],
   "source": [
    "classify_ext_data(\"all\")"
   ]
  },
  {
   "cell_type": "code",
   "execution_count": 14,
   "metadata": {},
   "outputs": [
    {
     "name": "stdout",
     "output_type": "stream",
     "text": [
      "Predictors: ['Hits', 'max_feat', 'avg_feat', 'max_centr', 'min_centr', 'avg_centr', 'features', 'all_same', 'hyd_prop', 'catdon_prop', 'aniacc_prop'] \n",
      "\n",
      "score based Q ph4s: 42 \n",
      "\n",
      "0 cluster model\n",
      "\n",
      "Predicted   0  1\n",
      "Actual          \n",
      "0           9  1\n",
      "1          33  9 \n",
      "\n",
      "PPV: 0.90 \n",
      "\n"
     ]
    }
   ],
   "source": [
    "classify_ext_data(\"moe\")"
   ]
  },
  {
   "cell_type": "code",
   "execution_count": 15,
   "metadata": {
    "scrolled": true
   },
   "outputs": [
    {
     "name": "stdout",
     "output_type": "stream",
     "text": [
      "Predictors: ['Hits', 'max_feat', 'avg_feat', 'max_centr', 'min_centr', 'avg_centr', 'features', 'all_same', 'hyd_prop', 'catdon_prop', 'aniacc_prop'] \n",
      "\n",
      "score based Q ph4s: 48 \n",
      "\n",
      "0 cluster model\n",
      "\n",
      "Predicted   0   1\n",
      "Actual           \n",
      "0           2   2\n",
      "1          37  11 \n",
      "\n",
      "PPV: 0.85 \n",
      "\n"
     ]
    }
   ],
   "source": [
    "classify_ext_data(\"EF\")"
   ]
  },
  {
   "cell_type": "code",
   "execution_count": 16,
   "metadata": {},
   "outputs": [
    {
     "name": "stdout",
     "output_type": "stream",
     "text": [
      "Predictors: ['Hits', 'max_feat', 'avg_feat', 'max_centr', 'min_centr', 'avg_centr', 'features', 'all_same', 'hyd_prop', 'catdon_prop', 'aniacc_prop'] \n",
      "\n",
      "score based Q ph4s: 21 \n",
      "\n",
      "0 cluster model\n",
      "\n",
      "Predicted   0  1\n",
      "Actual          \n",
      "0          22  9\n",
      "1          19  2 \n",
      "\n",
      "PPV: 0.18 \n",
      "\n"
     ]
    }
   ],
   "source": [
    "classify_ext_data(\"GH\")"
   ]
  },
  {
   "cell_type": "code",
   "execution_count": null,
   "metadata": {},
   "outputs": [],
   "source": []
  }
 ],
 "metadata": {
  "kernelspec": {
   "display_name": "Python 3",
   "language": "python",
   "name": "python3"
  },
  "language_info": {
   "codemirror_mode": {
    "name": "ipython",
    "version": 3
   },
   "file_extension": ".py",
   "mimetype": "text/x-python",
   "name": "python",
   "nbconvert_exporter": "python",
   "pygments_lexer": "ipython3",
   "version": "3.8.5"
  }
 },
 "nbformat": 4,
 "nbformat_minor": 4
}
