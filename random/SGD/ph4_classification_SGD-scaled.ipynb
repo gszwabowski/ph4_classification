{
 "cells": [
  {
   "cell_type": "code",
   "execution_count": 6,
   "metadata": {
    "scrolled": false
   },
   "outputs": [],
   "source": [
    "import numpy as np\n",
    "from sklearn import preprocessing, neighbors\n",
    "from sklearn import model_selection\n",
    "from sklearn.model_selection import train_test_split\n",
    "from sklearn.linear_model import LogisticRegression\n",
    "from sklearn.preprocessing import MinMaxScaler\n",
    "from sklearn.metrics import confusion_matrix\n",
    "\n",
    "scaler = MinMaxScaler()\n",
    "\n",
    "import pandas as pd"
   ]
  },
  {
   "cell_type": "code",
   "execution_count": 7,
   "metadata": {},
   "outputs": [],
   "source": [
    "from sklearn.linear_model import SGDClassifier\n",
    "from sklearn.model_selection import train_test_split\n",
    "from sklearn.metrics import confusion_matrix\n",
    "from sklearn.metrics import classification_report\n",
    "from sklearn.preprocessing import scale"
   ]
  },
  {
   "cell_type": "code",
   "execution_count": 8,
   "metadata": {},
   "outputs": [
    {
     "name": "stdout",
     "output_type": "stream",
     "text": [
      "Predictors: ['Hits', 'max_feat', 'avg_feat', 'max_centr', 'min_centr', 'avg_centr', 'features', 'all_same', 's_score', 'hyd_prop', 'catdon_prop', 'aniacc_prop'] \n",
      "\n",
      "Training score:  0.5043270116000736 \n",
      "\n",
      "Predicted    0    1\n",
      "Actual             \n",
      "0          755  146\n",
      "1          261  649 \n",
      "\n",
      "PPV: 0.82\n"
     ]
    },
    {
     "name": "stderr",
     "output_type": "stream",
     "text": [
      "C:\\Users\\Greg\\anaconda3\\lib\\site-packages\\sklearn\\base.py:438: UserWarning: X has feature names, but SGDClassifier was fitted without feature names\n",
      "  warnings.warn(\n"
     ]
    }
   ],
   "source": [
    "df = pd.read_csv('..\\data\\_All_Receptors_runs_1_2_3_binary.csv')\n",
    "df.drop(['receptor','Active_Rate','Enrichment', 'GH', 'Actives', 'filename', 'fbase', 'hyd', 'don', 'acc', 'ani', 'cat', 'aro', 'donhyd', 'catdon', 'hydaro', 'aniacc', 'donacc','don_prop', 'acc_prop', 'ani_prop', 'cat_prop', 'aro_prop', 'donhyd_prop', 'hydaro_prop', 'donacc_prop', 'min_feat'], 1, inplace=True)\n",
    "df.fillna(-99999)\n",
    "\n",
    "predictors = list(df.columns)\n",
    "predictors = predictors[:-1]\n",
    "\n",
    "print('Predictors:', predictors,'\\n')\n",
    "\n",
    "np.random.seed(42)\n",
    "\n",
    "#split data into quality/not quality sets\n",
    "q_ph4s = df[df['quality'] == 1]\n",
    "nq_ph4s = df[df['quality'] != 1]\n",
    "\n",
    "#ensure that there is an equal number of nq ph4s\n",
    "nq_ph4s = nq_ph4s.sample(n=1*len(q_ph4s))\n",
    "\n",
    "#merge arrays prior to TTS\n",
    "frames = [q_ph4s, nq_ph4s]\n",
    "df = pd.concat(frames)\n",
    "\n",
    "#x is features, y is classes\n",
    "x = df.drop('quality', 1)\n",
    "y = df.quality\n",
    "\n",
    "x_train, x_test, y_train, y_test = train_test_split(x, y, test_size=0.25, random_state=0)\n",
    "\n",
    "#scale train/test feature data\n",
    "x_train_scaled = scaler.fit_transform(x_train)\n",
    "x_test_scaled = scaler.fit_transform(x_test)\n",
    "\n",
    "#from https://www.datatechnotes.com/2020/09/sgd-classification-example-with-sgdclassifier-in-python.html\n",
    "#sgdc = SGDClassifier(loss=\"log\", penalty=\"l2\", max_iter=1000, tol=1e-3)\n",
    "\n",
    "sgdc = SGDClassifier(loss=\"log\", penalty=\"l2\", max_iter=1000, tol=1e-3, class_weight='balanced')\n",
    "#print(sgdc)\n",
    " \n",
    "sgdc.fit(x_train_scaled, y_train)\n",
    "\n",
    "score = sgdc.score(x_train, y_train)\n",
    "print(\"Training score: \", score, '\\n') \n",
    "\n",
    "y_pred = (sgdc.predict(x_test_scaled))\n",
    "confmat = confusion_matrix(y_test, y_pred, labels=[0,1])\n",
    "#print(confmat)\n",
    "\n",
    "confmat = confusion_matrix(y_test, y_pred, labels=[0,1]).ravel()\n",
    "FP = (confmat[1])\n",
    "TP = (confmat[3])\n",
    "\n",
    "PPV = (TP / (TP + FP))\n",
    "\n",
    "cm = pd.crosstab(y_test, y_pred, rownames=['Actual'], colnames=['Predicted'], margins=False)\n",
    "\n",
    "print(cm,'\\n')\n",
    "\n",
    "print('PPV:', format(PPV, '.2f'))\n"
   ]
  },
  {
   "cell_type": "code",
   "execution_count": 10,
   "metadata": {},
   "outputs": [
    {
     "name": "stdout",
     "output_type": "stream",
     "text": [
      "Predicted     0    1\n",
      "Actual              \n",
      "0          4104  749\n",
      "1            55   23 \n",
      "\n",
      "PPV: 0.03\n"
     ]
    }
   ],
   "source": [
    "#CLassify external data (D2 6LUQ pharmacophore models)\n",
    "\n",
    "ext_df = pd.read_csv('..\\data\\D2_6LUQ_pharmacophores_binary.csv')\n",
    "ext_df.drop(['receptor','Active_Rate','Enrichment', 'GH', 'Actives', 'filename', 'fbase', 'hyd', 'don', 'acc', 'ani', 'cat', 'aro', 'donhyd', 'catdon', 'hydaro', 'aniacc', 'donacc','don_prop', 'acc_prop', 'ani_prop', 'cat_prop', 'aro_prop', 'donhyd_prop', 'hydaro_prop', 'donacc_prop', 'min_feat'], 1, inplace=True)\n",
    "ext_df.fillna(-99999)\n",
    "\n",
    "#use this line to only classify a sample\n",
    "#ext_df = ext_df.sample(n=50)\n",
    "\n",
    "x = ext_df.drop('quality', 1)\n",
    "y = ext_df.quality\n",
    "\n",
    "x_scaled = scaler.fit_transform(x)\n",
    "\n",
    "ext_pred = (sgdc.predict(x_scaled))\n",
    "\n",
    "confmat = confusion_matrix(y, ext_pred, labels=[0,1]).ravel()\n",
    "FP = (confmat[1])\n",
    "TP = (confmat[3])\n",
    "\n",
    "PPV = (TP / (TP + FP))\n",
    "\n",
    "cm = pd.crosstab(y, ext_pred, rownames=['Actual'], colnames=['Predicted'], margins=False)\n",
    "\n",
    "print(cm,'\\n')\n",
    "\n",
    "print('PPV:', format(PPV, '.2f'))"
   ]
  },
  {
   "cell_type": "code",
   "execution_count": null,
   "metadata": {},
   "outputs": [],
   "source": []
  }
 ],
 "metadata": {
  "kernelspec": {
   "display_name": "Python 3",
   "language": "python",
   "name": "python3"
  },
  "language_info": {
   "codemirror_mode": {
    "name": "ipython",
    "version": 3
   },
   "file_extension": ".py",
   "mimetype": "text/x-python",
   "name": "python",
   "nbconvert_exporter": "python",
   "pygments_lexer": "ipython3",
   "version": "3.8.5"
  }
 },
 "nbformat": 4,
 "nbformat_minor": 4
}
