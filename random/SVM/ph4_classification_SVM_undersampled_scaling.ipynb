{
 "cells": [
  {
   "cell_type": "code",
   "execution_count": 46,
   "metadata": {
    "scrolled": false
   },
   "outputs": [],
   "source": [
    "import numpy as np\n",
    "from sklearn import preprocessing, neighbors\n",
    "from sklearn import model_selection\n",
    "from sklearn.model_selection import train_test_split\n",
    "from sklearn.linear_model import LogisticRegression\n",
    "from sklearn.preprocessing import MinMaxScaler\n",
    "from sklearn.metrics import confusion_matrix\n",
    "from sklearn import datasets, svm, pipeline\n",
    "from sklearn.kernel_approximation import (RBFSampler, Nystroem)\n",
    "\n",
    "scaler = MinMaxScaler()\n",
    "\n",
    "import pandas as pd\n"
   ]
  },
  {
   "cell_type": "code",
   "execution_count": 48,
   "metadata": {},
   "outputs": [
    {
     "name": "stdout",
     "output_type": "stream",
     "text": [
      "Predictors: ['Hits', 'max_feat', 'min_feat', 'avg_feat', 'max_centr', 'min_centr', 'avg_centr', 'features', 'all_same', 's_score', 'hyd_prop', 'catdon_prop', 'aniacc_prop'] \n",
      "\n",
      "Predicted    0    1\n",
      "Actual             \n",
      "0          717  184\n",
      "1          126  784 \n",
      "\n",
      "PPV: 0.81 \n",
      "\n"
     ]
    }
   ],
   "source": [
    "df = pd.read_csv('data\\_All_Receptors_runs_1_2_3_binary.csv')\n",
    "df.drop(['receptor','Active_Rate','Enrichment', 'GH', 'Actives', 'filename', 'fbase', 'hyd', 'don', 'acc', 'ani', 'cat', 'aro', 'donhyd', 'catdon', 'hydaro', 'aniacc', 'donacc','don_prop', 'acc_prop', 'ani_prop', 'cat_prop', 'aro_prop', 'donhyd_prop', 'hydaro_prop', 'donacc_prop'], 1, inplace=True)\n",
    "df.fillna(-99999)\n",
    "\n",
    "predictors = list(df.columns)\n",
    "predictors = predictors[:-1]\n",
    "\n",
    "print('Predictors:', predictors,'\\n')\n",
    "\n",
    "np.random.seed(42)\n",
    "\n",
    "#split data into quality/not quality sets\n",
    "q_ph4s = df[df['quality'] == 1]\n",
    "nq_ph4s = df[df['quality'] != 1]\n",
    "\n",
    "#ensure that there is an equal number of nq ph4s\n",
    "nq_ph4s = nq_ph4s.sample(n=1*len(q_ph4s))\n",
    "\n",
    "#merge arrays prior to TTS\n",
    "frames = [q_ph4s, nq_ph4s]\n",
    "df = pd.concat(frames)\n",
    "\n",
    "#x is features, y is classes\n",
    "x = df.drop('quality', 1)\n",
    "y = df.quality\n",
    "\n",
    "x_train, x_test, y_train, y_test = train_test_split(x, y, test_size=0.25, random_state=0)\n",
    "\n",
    "#scale train/test feature data\n",
    "x_train_scaled = scaler.fit_transform(x_train)\n",
    "x_test_scaled = scaler.fit_transform(x_test)\n",
    "\n",
    "#model goes here\n",
    "# Create a classifier: a support vector classifier\n",
    "kernel_svm = svm.SVC(kernel='rbf', gamma='auto', class_weight = 'balanced')\n",
    "\n",
    "# fit and predict using kernel svm:\n",
    "kernel_svm.fit(x_train_scaled, y_train)\n",
    "y_pred = kernel_svm.predict(x_test_scaled)\n",
    "\n",
    "confmat = confusion_matrix(y_test, y_pred, labels=[0,1]).ravel()\n",
    "FP = (confmat[1])\n",
    "TP = (confmat[3])\n",
    "PPV = (TP / (TP + FP))\n",
    "cm = pd.crosstab(y_test, y_pred, rownames=['Actual'], colnames=['Predicted'], margins=False)\n",
    "print(cm,'\\n')\n",
    "print('PPV:', format(PPV, '.2f'),'\\n')"
   ]
  },
  {
   "cell_type": "code",
   "execution_count": 49,
   "metadata": {},
   "outputs": [
    {
     "name": "stdout",
     "output_type": "stream",
     "text": [
      "Predicted     0     1\n",
      "Actual               \n",
      "0          3665  1188\n",
      "1            40    38 \n",
      "\n",
      "PPV: 0.03\n"
     ]
    }
   ],
   "source": [
    "#CLassify external data (D2 6LUQ pharmacophore models)\n",
    "ext_df = pd.read_csv('data\\D2_6LUQ_pharmacophores_binary.csv')\n",
    "ext_df.drop(['receptor','Active_Rate','Enrichment', 'GH', 'Actives', 'filename', 'fbase', 'hyd', 'don', 'acc', 'ani', 'cat', 'aro', 'donhyd', 'catdon', 'hydaro', 'aniacc', 'donacc','don_prop', 'acc_prop', 'ani_prop', 'cat_prop', 'aro_prop', 'donhyd_prop', 'hydaro_prop', 'donacc_prop'], 1, inplace=True)\n",
    "ext_df.fillna(-99999)\n",
    "\n",
    "#use this line to only classify a sample\n",
    "#ext_df = ext_df.sample(n=50)\n",
    "\n",
    "x = ext_df.drop('quality', 1)\n",
    "y = ext_df.quality\n",
    "\n",
    "x_scaled = scaler.fit_transform(x)\n",
    "\n",
    "#make prediction with kernel SVM\n",
    "ext_pred = kernel_svm.predict(x_scaled)\n",
    "\n",
    "confmat = confusion_matrix(y, ext_pred, labels=[0,1]).ravel()\n",
    "FP = (confmat[1])\n",
    "TP = (confmat[3])\n",
    "\n",
    "PPV = (TP / (TP + FP))\n",
    "\n",
    "cm = pd.crosstab(y, ext_pred, rownames=['Actual'], colnames=['Predicted'], margins=False)\n",
    "\n",
    "print(cm,'\\n')\n",
    "\n",
    "print('PPV:', format(PPV, '.2f'))"
   ]
  },
  {
   "cell_type": "code",
   "execution_count": null,
   "metadata": {},
   "outputs": [],
   "source": []
  },
  {
   "cell_type": "code",
   "execution_count": null,
   "metadata": {},
   "outputs": [],
   "source": []
  }
 ],
 "metadata": {
  "kernelspec": {
   "display_name": "Python 3",
   "language": "python",
   "name": "python3"
  },
  "language_info": {
   "codemirror_mode": {
    "name": "ipython",
    "version": 3
   },
   "file_extension": ".py",
   "mimetype": "text/x-python",
   "name": "python",
   "nbconvert_exporter": "python",
   "pygments_lexer": "ipython3",
   "version": "3.8.5"
  }
 },
 "nbformat": 4,
 "nbformat_minor": 4
}
