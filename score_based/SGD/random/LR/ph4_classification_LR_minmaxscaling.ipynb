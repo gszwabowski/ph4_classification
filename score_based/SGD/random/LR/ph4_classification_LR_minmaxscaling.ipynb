{
 "cells": [
  {
   "cell_type": "code",
   "execution_count": 1,
   "metadata": {
    "scrolled": false
   },
   "outputs": [],
   "source": [
    "import numpy as np\n",
    "from sklearn import preprocessing, neighbors\n",
    "from sklearn import model_selection\n",
    "from sklearn.model_selection import train_test_split\n",
    "from sklearn.linear_model import LogisticRegression\n",
    "from sklearn.preprocessing import MinMaxScaler\n",
    "from sklearn.preprocessing import StandardScaler\n",
    "from sklearn.metrics import confusion_matrix\n",
    "\n",
    "scaler = MinMaxScaler()\n",
    "\n",
    "import pandas as pd"
   ]
  },
  {
   "cell_type": "code",
   "execution_count": 2,
   "metadata": {},
   "outputs": [],
   "source": [
    "def nestedCV_pcutoffrange(receptor_num):\n",
    "    np.random.seed(42)\n",
    "    # disable chained assignments\n",
    "    pd.options.mode.chained_assignment = None \n",
    "    \n",
    "    receptor_names = ['5HT2B','A2A','Beta 2','H1','M1','OPRD','OPRK','OPRM']\n",
    "    holdout_receptor = receptor_names[receptor_num]\n",
    "    del receptor_names[receptor_num]\n",
    "    \n",
    "    max_PPVS = []\n",
    "    p_index_list = []\n",
    "   \n",
    "    for receptor_name in receptor_names:\n",
    "        df = pd.read_csv('data\\_All_Receptors_runs_1_2_3_binary.csv')\n",
    "        df.drop(['Active_Rate','Enrichment', 'GH', 'Actives', 'filename', 'fbase', 'hyd', 'don', 'acc', 'ani', 'cat', 'aro', 'donhyd', 'catdon', 'hydaro', 'aniacc', 'donacc','don_prop', 'acc_prop', 'ani_prop', 'cat_prop', 'aro_prop', 'donhyd_prop', 'hydaro_prop', 'donacc_prop', 'min_feat', 'all_same'], 1, inplace=True)\n",
    "        df.fillna(-99999)\n",
    "        testset = df.loc[df['receptor'] == receptor_name]\n",
    "        df = df[df['receptor'] != holdout_receptor]\n",
    "        trainset = df[df['receptor'] != receptor_name]\n",
    "        testset.drop('receptor',1, inplace=True)\n",
    "        trainset.drop('receptor',1, inplace=True)\n",
    "        \n",
    "        if receptor_name == '5HT2B':\n",
    "             print('Predictors: ', list(trainset.columns.values))\n",
    "       \n",
    "        \n",
    "        #make instance of model\n",
    "        # all parameters not specified are set to their defaults\n",
    "        logisticRegr = LogisticRegression(max_iter = 5000)\n",
    "        \n",
    "        #split features and labels\n",
    "        x_train = np.array(trainset.drop(['quality'], 1))\n",
    "        y_train = np.array(trainset['quality'])\n",
    "        \n",
    "        x_test = np.array(testset.drop(['quality'], 1))\n",
    "        y_test = np.array(testset['quality'])\n",
    "        \n",
    "        #scale train/test feature data\n",
    "        x_train_scaled = scaler.fit_transform(x_train)\n",
    "        x_test_scaled = scaler.fit_transform(x_test)\n",
    "        \n",
    "        logisticRegr.fit(x_train_scaled, y_train)\n",
    "        \n",
    "        #predictions = logisticRegr.predict(x_test)\n",
    "        \n",
    "        #print('receptor','\\t','p_cutoff','\\t','PPV')\n",
    "        #print('-----------------------------------')\n",
    "        \n",
    "        #threshold_list = [0.05,0.1,0.15,0.2,0.25,0.3,0.35,0.4,0.45,0.5,0.55,0.6,0.65,.7,.75,.8,.85,.9,.95,.99]\n",
    "        threshold_list = np.arange(0.0,1.0,0.01)\n",
    "        PPV_values = []\n",
    "        \n",
    "        for i in threshold_list:\n",
    "            y_pred = (logisticRegr.predict_proba(x_test_scaled)[:,1] >= i).astype(bool) # set threshold as i\n",
    "            #confusion_matrix, upper row is not quality, lower row is quality. left column is classified\n",
    "            #as NQ, right column is classified as Q\n",
    "            confmat = confusion_matrix(y_test, y_pred, labels=[0,1]).ravel()\n",
    "            #print(confmat)\n",
    "            #print(confmat[1])\n",
    "            FP = (confmat[1])\n",
    "            #print(confmat[3])\n",
    "            TP = (confmat[3])\n",
    "            if FP != 0 and TP != 0:\n",
    "                PPV = (TP / (TP + FP))\n",
    "                PPV_values.append(PPV)\n",
    "                #print(receptor_name,'\\t', i, '\\t', round(PPV,2))\n",
    "            else:\n",
    "                PPV = 0.00\n",
    "                PPV_values.append(PPV)\n",
    "                #print(receptor_name,'\\t', i, '\\t', round(PPV,2))\n",
    "        \n",
    "        \n",
    "        #print(PPV_values)\n",
    "        max_PPV_value = max(PPV_values)\n",
    "        max_PPVS.append(max_PPV_value)\n",
    "        p_index_list.append(PPV_values.index(max_PPV_value))\n",
    "        #print(max_PPVS)\n",
    "        #print(p_index_list)\n",
    "        print(receptor_name, \"holdout validation finished.\\n\")\n",
    "    \n",
    "    print('\\n')\n",
    "    print('receptor','\\t','p_cutoff','\\t','PPV')\n",
    "    print('-----------------------------------')\n",
    "    \n",
    "    i=0;\n",
    "    for receptor_name in receptor_names:\n",
    "        print(receptor_name,'\\t', threshold_list[p_index_list[i]], '\\t', round(max_PPVS[i],2))\n",
    "        i+=1\n",
    "        \n",
    "        \n",
    "        # Use score method to get accuracy of model\n",
    "        #score = logisticRegr.score(x_test, y_test)\n",
    "        #print(score)\n",
    "        \n",
    "        "
   ]
  },
  {
   "cell_type": "code",
   "execution_count": 3,
   "metadata": {},
   "outputs": [],
   "source": [
    "def ph4_classify(receptor_num, p_cutoff):\n",
    "    np.random.seed(42)\n",
    "    receptor_names = ['5HT2B','A2A','Beta 2','H1','M1','OPRD','OPRK','OPRM']\n",
    "    receptor_name = receptor_names[receptor_num]\n",
    "    \n",
    "    df = pd.read_csv('data\\_All_Receptors_runs_1_2_3_binary.csv')\n",
    "    df.drop(['Active_Rate','Enrichment', 'GH', 'Actives', 'filename', 'fbase', 'hyd', 'don', 'acc', 'ani', 'cat', 'aro', 'donhyd', 'catdon', 'hydaro', 'aniacc', 'donacc','don_prop', 'acc_prop', 'ani_prop', 'cat_prop', 'aro_prop', 'donhyd_prop', 'hydaro_prop', 'donacc_prop','min_feat', 'all_same'], 1, inplace=True)\n",
    "    df.fillna(-99999)\n",
    "    testset = df.loc[df['receptor'] == receptor_name]\n",
    "    trainset = df[df['receptor'] != receptor_name]\n",
    "    testset.drop('receptor',1, inplace=True)\n",
    "    trainset.drop('receptor',1, inplace=True)\n",
    "    \n",
    "    #make instance of model\n",
    "    # all parameters not specified are set to their defaults\n",
    "    logisticRegr = LogisticRegression(max_iter = 5000)\n",
    "        \n",
    "    #split features and labels\n",
    "    x_train = np.array(trainset.drop(['quality'], 1))\n",
    "    y_train = np.array(trainset['quality'])\n",
    "        \n",
    "    x_test = np.array(testset.drop(['quality'], 1))\n",
    "    y_test = np.array(testset['quality'])\n",
    "    \n",
    "    #scale train/test feature data\n",
    "    x_train_scaled = scaler.fit_transform(x_train)\n",
    "    x_test_scaled = scaler.fit_transform(x_test)\n",
    "        \n",
    "    logisticRegr.fit(x_train_scaled, y_train)\n",
    "    \n",
    "    y_pred = (logisticRegr.predict_proba(x_test_scaled)[:,1] >= p_cutoff).astype(bool) # set threshold as p_cutoff\n",
    "    #confusion_matrix, upper row is not quality, lower row is quality. left column is classified\n",
    "    #as NQ, right column is classified as Q\n",
    "    cm = pd.crosstab(y_test, y_pred, rownames=['Actual'], colnames=['Predicted'], margins=False)\n",
    "    \n",
    "    confmat = confusion_matrix(y_test, y_pred, labels=[0,1]).ravel()\n",
    "    FP = (confmat[1])\n",
    "    TP = (confmat[3])\n",
    "\n",
    "    PPV = (TP / (TP + FP))\n",
    "    \n",
    "    print(cm,'\\n')\n",
    "\n",
    "    print('PPV:', format(PPV, '.2f'))\n",
    "    "
   ]
  },
  {
   "cell_type": "code",
   "execution_count": 4,
   "metadata": {
    "scrolled": true
   },
   "outputs": [
    {
     "name": "stdout",
     "output_type": "stream",
     "text": [
      "A2A holdout validation finished.\n",
      "\n",
      "Beta 2 holdout validation finished.\n",
      "\n",
      "H1 holdout validation finished.\n",
      "\n",
      "M1 holdout validation finished.\n",
      "\n",
      "OPRD holdout validation finished.\n",
      "\n",
      "OPRK holdout validation finished.\n",
      "\n",
      "OPRM holdout validation finished.\n",
      "\n",
      "\n",
      "\n",
      "receptor \t p_cutoff \t PPV\n",
      "-----------------------------------\n",
      "A2A \t 0.05 \t 0.1\n",
      "Beta 2 \t 0.13 \t 0.13\n",
      "H1 \t 0.65 \t 0.14\n",
      "M1 \t 0.24 \t 0.56\n",
      "OPRD \t 0.23 \t 0.94\n",
      "OPRK \t 0.23 \t 0.53\n",
      "OPRM \t 0.32 \t 0.65\n"
     ]
    }
   ],
   "source": [
    "nestedCV_pcutoffrange(0)"
   ]
  },
  {
   "cell_type": "code",
   "execution_count": 5,
   "metadata": {},
   "outputs": [
    {
     "name": "stdout",
     "output_type": "stream",
     "text": [
      "Predictors:  ['Hits', 'max_feat', 'avg_feat', 'max_centr', 'min_centr', 'avg_centr', 'features', 's_score', 'hyd_prop', 'catdon_prop', 'aniacc_prop', 'quality']\n",
      "5HT2B holdout validation finished.\n",
      "\n",
      "Beta 2 holdout validation finished.\n",
      "\n",
      "H1 holdout validation finished.\n",
      "\n",
      "M1 holdout validation finished.\n",
      "\n",
      "OPRD holdout validation finished.\n",
      "\n",
      "OPRK holdout validation finished.\n",
      "\n",
      "OPRM holdout validation finished.\n",
      "\n",
      "\n",
      "\n",
      "receptor \t p_cutoff \t PPV\n",
      "-----------------------------------\n",
      "5HT2B \t 0.03 \t 0.09\n",
      "Beta 2 \t 0.12 \t 0.14\n",
      "H1 \t 0.59 \t 0.15\n",
      "M1 \t 0.19 \t 0.56\n",
      "OPRD \t 0.22 \t 0.94\n",
      "OPRK \t 0.24 \t 0.5\n",
      "OPRM \t 0.29 \t 0.6\n"
     ]
    }
   ],
   "source": [
    "nestedCV_pcutoffrange(1)"
   ]
  },
  {
   "cell_type": "code",
   "execution_count": 6,
   "metadata": {},
   "outputs": [
    {
     "name": "stdout",
     "output_type": "stream",
     "text": [
      "Predictors:  ['Hits', 'max_feat', 'avg_feat', 'max_centr', 'min_centr', 'avg_centr', 'features', 's_score', 'hyd_prop', 'catdon_prop', 'aniacc_prop', 'quality']\n",
      "5HT2B holdout validation finished.\n",
      "\n",
      "A2A holdout validation finished.\n",
      "\n",
      "H1 holdout validation finished.\n",
      "\n",
      "M1 holdout validation finished.\n",
      "\n",
      "OPRD holdout validation finished.\n",
      "\n",
      "OPRK holdout validation finished.\n",
      "\n",
      "OPRM holdout validation finished.\n",
      "\n",
      "\n",
      "\n",
      "receptor \t p_cutoff \t PPV\n",
      "-----------------------------------\n",
      "5HT2B \t 0.06 \t 0.1\n",
      "A2A \t 0.07 \t 0.11\n",
      "H1 \t 0.65 \t 0.14\n",
      "M1 \t 0.24 \t 0.57\n",
      "OPRD \t 0.22 \t 0.94\n",
      "OPRK \t 0.21 \t 0.44\n",
      "OPRM \t 0.3 \t 0.63\n"
     ]
    }
   ],
   "source": [
    "nestedCV_pcutoffrange(2)"
   ]
  },
  {
   "cell_type": "code",
   "execution_count": 7,
   "metadata": {},
   "outputs": [
    {
     "name": "stdout",
     "output_type": "stream",
     "text": [
      "Predictors:  ['Hits', 'max_feat', 'avg_feat', 'max_centr', 'min_centr', 'avg_centr', 'features', 's_score', 'hyd_prop', 'catdon_prop', 'aniacc_prop', 'quality']\n",
      "5HT2B holdout validation finished.\n",
      "\n",
      "A2A holdout validation finished.\n",
      "\n",
      "Beta 2 holdout validation finished.\n",
      "\n",
      "M1 holdout validation finished.\n",
      "\n",
      "OPRD holdout validation finished.\n",
      "\n",
      "OPRK holdout validation finished.\n",
      "\n",
      "OPRM holdout validation finished.\n",
      "\n",
      "\n",
      "\n",
      "receptor \t p_cutoff \t PPV\n",
      "-----------------------------------\n",
      "5HT2B \t 0.03 \t 0.09\n",
      "A2A \t 0.1 \t 0.1\n",
      "Beta 2 \t 0.18 \t 0.13\n",
      "M1 \t 0.27 \t 0.58\n",
      "OPRD \t 0.28 \t 0.94\n",
      "OPRK \t 0.29 \t 0.58\n",
      "OPRM \t 0.39 \t 0.64\n"
     ]
    }
   ],
   "source": [
    "nestedCV_pcutoffrange(3)"
   ]
  },
  {
   "cell_type": "code",
   "execution_count": 8,
   "metadata": {},
   "outputs": [
    {
     "name": "stdout",
     "output_type": "stream",
     "text": [
      "Predictors:  ['Hits', 'max_feat', 'avg_feat', 'max_centr', 'min_centr', 'avg_centr', 'features', 's_score', 'hyd_prop', 'catdon_prop', 'aniacc_prop', 'quality']\n",
      "5HT2B holdout validation finished.\n",
      "\n",
      "A2A holdout validation finished.\n",
      "\n",
      "Beta 2 holdout validation finished.\n",
      "\n",
      "H1 holdout validation finished.\n",
      "\n",
      "OPRD holdout validation finished.\n",
      "\n",
      "OPRK holdout validation finished.\n",
      "\n",
      "OPRM holdout validation finished.\n",
      "\n",
      "\n",
      "\n",
      "receptor \t p_cutoff \t PPV\n",
      "-----------------------------------\n",
      "5HT2B \t 0.01 \t 0.09\n",
      "A2A \t 0.15 \t 0.1\n",
      "Beta 2 \t 0.14 \t 0.17\n",
      "H1 \t 0.58 \t 0.15\n",
      "OPRD \t 0.22 \t 0.86\n",
      "OPRK \t 0.15 \t 0.46\n",
      "OPRM \t 0.22 \t 0.53\n"
     ]
    }
   ],
   "source": [
    "nestedCV_pcutoffrange(4)"
   ]
  },
  {
   "cell_type": "code",
   "execution_count": 9,
   "metadata": {},
   "outputs": [
    {
     "name": "stdout",
     "output_type": "stream",
     "text": [
      "Predictors:  ['Hits', 'max_feat', 'avg_feat', 'max_centr', 'min_centr', 'avg_centr', 'features', 's_score', 'hyd_prop', 'catdon_prop', 'aniacc_prop', 'quality']\n",
      "5HT2B holdout validation finished.\n",
      "\n",
      "A2A holdout validation finished.\n",
      "\n",
      "Beta 2 holdout validation finished.\n",
      "\n",
      "H1 holdout validation finished.\n",
      "\n",
      "M1 holdout validation finished.\n",
      "\n",
      "OPRK holdout validation finished.\n",
      "\n",
      "OPRM holdout validation finished.\n",
      "\n",
      "\n",
      "\n",
      "receptor \t p_cutoff \t PPV\n",
      "-----------------------------------\n",
      "5HT2B \t 0.04 \t 0.1\n",
      "A2A \t 0.05 \t 0.1\n",
      "Beta 2 \t 0.11 \t 0.13\n",
      "H1 \t 0.59 \t 0.14\n",
      "M1 \t 0.19 \t 0.6\n",
      "OPRK \t 0.21 \t 0.5\n",
      "OPRM \t 0.27 \t 0.62\n"
     ]
    }
   ],
   "source": [
    "nestedCV_pcutoffrange(5)"
   ]
  },
  {
   "cell_type": "code",
   "execution_count": 10,
   "metadata": {},
   "outputs": [
    {
     "name": "stdout",
     "output_type": "stream",
     "text": [
      "Predictors:  ['Hits', 'max_feat', 'avg_feat', 'max_centr', 'min_centr', 'avg_centr', 'features', 's_score', 'hyd_prop', 'catdon_prop', 'aniacc_prop', 'quality']\n",
      "5HT2B holdout validation finished.\n",
      "\n",
      "A2A holdout validation finished.\n",
      "\n",
      "Beta 2 holdout validation finished.\n",
      "\n",
      "H1 holdout validation finished.\n",
      "\n",
      "M1 holdout validation finished.\n",
      "\n",
      "OPRD holdout validation finished.\n",
      "\n",
      "OPRM holdout validation finished.\n",
      "\n",
      "\n",
      "\n",
      "receptor \t p_cutoff \t PPV\n",
      "-----------------------------------\n",
      "5HT2B \t 0.04 \t 0.09\n",
      "A2A \t 0.06 \t 0.1\n",
      "Beta 2 \t 0.12 \t 0.12\n",
      "H1 \t 0.6 \t 0.14\n",
      "M1 \t 0.2 \t 0.55\n",
      "OPRD \t 0.22 \t 0.94\n",
      "OPRM \t 0.29 \t 0.61\n"
     ]
    }
   ],
   "source": [
    "nestedCV_pcutoffrange(6)"
   ]
  },
  {
   "cell_type": "code",
   "execution_count": 11,
   "metadata": {
    "scrolled": true
   },
   "outputs": [
    {
     "name": "stdout",
     "output_type": "stream",
     "text": [
      "Predictors:  ['Hits', 'max_feat', 'avg_feat', 'max_centr', 'min_centr', 'avg_centr', 'features', 's_score', 'hyd_prop', 'catdon_prop', 'aniacc_prop', 'quality']\n",
      "5HT2B holdout validation finished.\n",
      "\n",
      "A2A holdout validation finished.\n",
      "\n",
      "Beta 2 holdout validation finished.\n",
      "\n",
      "H1 holdout validation finished.\n",
      "\n",
      "M1 holdout validation finished.\n",
      "\n",
      "OPRD holdout validation finished.\n",
      "\n",
      "OPRK holdout validation finished.\n",
      "\n",
      "\n",
      "\n",
      "receptor \t p_cutoff \t PPV\n",
      "-----------------------------------\n",
      "5HT2B \t 0.03 \t 0.09\n",
      "A2A \t 0.05 \t 0.11\n",
      "Beta 2 \t 0.11 \t 0.16\n",
      "H1 \t 0.59 \t 0.14\n",
      "M1 \t 0.21 \t 0.5\n",
      "OPRD \t 0.22 \t 0.92\n",
      "OPRK \t 0.17 \t 0.46\n"
     ]
    }
   ],
   "source": [
    "nestedCV_pcutoffrange(7)"
   ]
  },
  {
   "cell_type": "code",
   "execution_count": 12,
   "metadata": {
    "scrolled": true
   },
   "outputs": [
    {
     "name": "stdout",
     "output_type": "stream",
     "text": [
      "Predicted  False  True \n",
      "Actual                 \n",
      "0          14140     63\n",
      "1            473      0 \n",
      "\n",
      "PPV: 0.00\n"
     ]
    }
   ],
   "source": [
    "ph4_classify(0, 0.22)"
   ]
  },
  {
   "cell_type": "code",
   "execution_count": 13,
   "metadata": {},
   "outputs": [
    {
     "name": "stdout",
     "output_type": "stream",
     "text": [
      "Predicted  False  True \n",
      "Actual                 \n",
      "0          14064     14\n",
      "1            149      0 \n",
      "\n",
      "PPV: 0.00\n"
     ]
    }
   ],
   "source": [
    "ph4_classify(1, 0.22)"
   ]
  },
  {
   "cell_type": "code",
   "execution_count": 14,
   "metadata": {},
   "outputs": [
    {
     "name": "stdout",
     "output_type": "stream",
     "text": [
      "Predicted  False  True \n",
      "Actual                 \n",
      "0          14384     56\n",
      "1            234      6 \n",
      "\n",
      "PPV: 0.10\n"
     ]
    }
   ],
   "source": [
    "ph4_classify(2, 0.22)"
   ]
  },
  {
   "cell_type": "code",
   "execution_count": 15,
   "metadata": {},
   "outputs": [
    {
     "name": "stdout",
     "output_type": "stream",
     "text": [
      "Predicted  False  True \n",
      "Actual                 \n",
      "0          14305    325\n",
      "1            138     14 \n",
      "\n",
      "PPV: 0.04\n"
     ]
    }
   ],
   "source": [
    "ph4_classify(3, 0.22)"
   ]
  },
  {
   "cell_type": "code",
   "execution_count": 16,
   "metadata": {},
   "outputs": [
    {
     "name": "stdout",
     "output_type": "stream",
     "text": [
      "Predicted  False  True \n",
      "Actual                 \n",
      "0          13350      5\n",
      "1            994      5 \n",
      "\n",
      "PPV: 0.50\n"
     ]
    }
   ],
   "source": [
    "ph4_classify(4, 0.22)"
   ]
  },
  {
   "cell_type": "code",
   "execution_count": 17,
   "metadata": {},
   "outputs": [
    {
     "name": "stdout",
     "output_type": "stream",
     "text": [
      "Predicted  False  True \n",
      "Actual                 \n",
      "0          13875      1\n",
      "1            279     16 \n",
      "\n",
      "PPV: 0.94\n"
     ]
    }
   ],
   "source": [
    "ph4_classify(5, 0.22)"
   ]
  },
  {
   "cell_type": "code",
   "execution_count": 18,
   "metadata": {},
   "outputs": [
    {
     "name": "stdout",
     "output_type": "stream",
     "text": [
      "Predicted  False  True \n",
      "Actual                 \n",
      "0          14427      8\n",
      "1            271      6 \n",
      "\n",
      "PPV: 0.43\n"
     ]
    }
   ],
   "source": [
    "ph4_classify(6, 0.22)"
   ]
  },
  {
   "cell_type": "code",
   "execution_count": 20,
   "metadata": {
    "scrolled": true
   },
   "outputs": [
    {
     "name": "stdout",
     "output_type": "stream",
     "text": [
      "Predicted  False  True \n",
      "Actual                 \n",
      "0          13509     72\n",
      "1            934    102 \n",
      "\n",
      "PPV: 0.59\n"
     ]
    }
   ],
   "source": [
    "ph4_classify(7, 0.22)"
   ]
  },
  {
   "cell_type": "code",
   "execution_count": null,
   "metadata": {},
   "outputs": [],
   "source": []
  }
 ],
 "metadata": {
  "kernelspec": {
   "display_name": "Python 3",
   "language": "python",
   "name": "python3"
  },
  "language_info": {
   "codemirror_mode": {
    "name": "ipython",
    "version": 3
   },
   "file_extension": ".py",
   "mimetype": "text/x-python",
   "name": "python",
   "nbconvert_exporter": "python",
   "pygments_lexer": "ipython3",
   "version": "3.8.5"
  }
 },
 "nbformat": 4,
 "nbformat_minor": 4
}
