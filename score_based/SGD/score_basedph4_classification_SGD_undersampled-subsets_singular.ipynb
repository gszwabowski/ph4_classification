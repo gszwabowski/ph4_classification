{
 "cells": [
  {
   "cell_type": "code",
   "execution_count": 1,
   "metadata": {
    "scrolled": false
   },
   "outputs": [],
   "source": [
    "import numpy as np\n",
    "import sklearn\n",
    "from sklearn import preprocessing, neighbors\n",
    "from sklearn import model_selection\n",
    "from sklearn.model_selection import train_test_split\n",
    "from sklearn.linear_model import LogisticRegression\n",
    "from sklearn.preprocessing import StandardScaler\n",
    "from sklearn.metrics import confusion_matrix\n",
    "from sklearn.cluster import KMeans\n",
    "from typing import Tuple\n",
    "from sklearn import model_selection\n",
    "from sklearn.metrics import classification_report\n",
    "from sklearn import metrics\n",
    "\n",
    "import pandas as pd\n",
    "pd.options.mode.chained_assignment = None  # default='warn'\n",
    "import random, os\n",
    "import csv\n",
    "\n",
    "rng = 1\n",
    "\n",
    "def seed_everything(seed=1):\n",
    "    \"\"\"\"\n",
    "    Seed everything.\n",
    "    \"\"\"   \n",
    "    random.seed(seed)\n",
    "    os.environ['PYTHONHASHSEED'] = str(seed)\n",
    "    np.random.seed(seed)\n",
    "    \n",
    "#print('The scikit-learn version is {}.'.format(sklearn.__version__))"
   ]
  },
  {
   "cell_type": "code",
   "execution_count": 2,
   "metadata": {},
   "outputs": [],
   "source": [
    "from sklearn.linear_model import SGDClassifier\n",
    "from sklearn.model_selection import train_test_split\n",
    "from sklearn.metrics import confusion_matrix\n",
    "from sklearn.metrics import classification_report\n",
    "from sklearn.preprocessing import scale"
   ]
  },
  {
   "cell_type": "code",
   "execution_count": 3,
   "metadata": {},
   "outputs": [],
   "source": [
    "#cluster test/train data\n",
    "def get_clusters(X_train: pd.DataFrame, X_test: pd.DataFrame, n_clusters: int) -> Tuple[pd.DataFrame, pd.DataFrame]:\n",
    "    \"\"\"\n",
    "    applies k-means clustering to training data to find clusters and predicts them for the test set\n",
    "    \"\"\"\n",
    "    clustering = KMeans(n_clusters=n_clusters, random_state=rng)\n",
    "    clustering.fit(X_train)\n",
    "    # apply the labels to the training set\n",
    "    train_labels = clustering.labels_\n",
    "    X_train_clstrs = X_train.copy()\n",
    "    X_train_clstrs['clusters'] = train_labels\n",
    "    \n",
    "    #write ext_clusters to csv\n",
    "    #X_train_clstrs.to_csv('X_train_clstrs.csv')\n",
    "    \n",
    "    # predict labels on the test set\n",
    "    test_labels = clustering.predict(X_test)\n",
    "    X_test_clstrs = X_test.copy()\n",
    "    X_test_clstrs['clusters'] = test_labels\n",
    "    return X_train_clstrs, X_test_clstrs\n",
    "\n",
    "#scale each feature\n",
    "def scale_features(X_train: pd.DataFrame, X_test: pd.DataFrame) -> Tuple[pd.DataFrame, pd.DataFrame]:\n",
    "    \"\"\"\n",
    "    applies standard scaler (z-scores) to training data and predicts z-scores for the test set\n",
    "    \"\"\"\n",
    "    scaler = StandardScaler()\n",
    "    to_scale = [col for col in X_train.columns.values]\n",
    "    scaler.fit(X_train[to_scale])\n",
    "    X_train[to_scale] = scaler.transform(X_train[to_scale])\n",
    "    \n",
    "    # predict z-scores on the test set\n",
    "    X_test[to_scale] = scaler.transform(X_test[to_scale])\n",
    "    \n",
    "    return X_train, X_test\n",
    "\n"
   ]
  },
  {
   "cell_type": "code",
   "execution_count": 4,
   "metadata": {
    "scrolled": true
   },
   "outputs": [
    {
     "name": "stdout",
     "output_type": "stream",
     "text": [
      "Predictors: ['Hits', 'max_feat', 'avg_feat', 'max_centr', 'min_centr', 'avg_centr', 'features', 'all_same', 's_score', 'hyd_prop', 'don_prop', 'catdon_prop', 'hydaro_prop', 'aniacc_prop'] \n",
      "\n",
      "x_train Q ph4s: 2739 \n",
      "\n",
      "x_test Q ph4s: 882 \n",
      "\n",
      "Predicted    0    1\n",
      "Actual             \n",
      "0          708  221\n",
      "1           69  813 \n",
      "\n",
      "PPV: 0.79\n",
      "Accuracy: 0.84\n",
      "Recall: 0.92\n",
      "F1: 0.85 \n",
      "\n"
     ]
    }
   ],
   "source": [
    "#read in train/test data\n",
    "df = pd.read_csv('..\\..\\data\\_All_Receptors_runs_1_2_3_binary.csv')\n",
    "df = df[['Hits', 'max_feat', 'avg_feat', 'max_centr', 'min_centr', 'avg_centr', 'features', 'all_same', 's_score', 'hyd_prop', 'don_prop', 'catdon_prop', 'hydaro_prop', 'aniacc_prop', 'quality']]\n",
    "df.fillna(-99999)\n",
    "\n",
    "predictors = list(df.columns)\n",
    "predictors = predictors[:-1]\n",
    "\n",
    "print('Predictors:', predictors,'\\n')\n",
    "\n",
    "\n",
    "#split data into quality/not quality sets\n",
    "q_ph4s = df[df['quality'] == 1]\n",
    "nq_ph4s = df[df['quality'] != 1]\n",
    "\n",
    "#ensure that there is an equal number of nq ph4s\n",
    "nq_ph4s = nq_ph4s.sample(n=1*len(q_ph4s), random_state = rng)\n",
    "#print(type(nq_ph4s))\n",
    "#print(nq_ph4s['Hits'].head())\n",
    "#print(nq_ph4s['Hits'].tail())\n",
    "\n",
    "#merge arrays prior to TTS\n",
    "frames = [q_ph4s, nq_ph4s]\n",
    "df = pd.concat(frames)\n",
    "\n",
    "#x is features, y is classes\n",
    "x = df.drop('quality', axis=1)\n",
    "y = df.quality\n",
    "\n",
    "x_train, x_test, y_train, y_test = train_test_split(x, y, test_size=0.25, random_state=rng)\n",
    "\n",
    "print(\"x_train Q ph4s:\", y_train.sum(),'\\n')\n",
    "print(\"x_test Q ph4s:\",y_test.sum(),'\\n')\n",
    "\n",
    "X_train_scaled, X_test_scaled = scale_features(x_train, x_test)\n",
    "\n",
    "#LR model\n",
    "sgdc = SGDClassifier(loss=\"log\", penalty=\"l1\", max_iter=1000, tol=1e-3, class_weight='balanced', random_state = rng)\n",
    "sgdc.fit(X_train_scaled, y_train)\n",
    "\n",
    "y_pred = (sgdc.predict(X_test_scaled))\n",
    "confmat = confusion_matrix(y_test, y_pred, labels=[0,1])\n",
    "#print(confmat)\n",
    "\n",
    "confmat = confusion_matrix(y_test, y_pred, labels=[0,1]).ravel()\n",
    "FP = (confmat[1])\n",
    "TP = (confmat[3])\n",
    "\n",
    "PPV = (TP / (TP + FP))\n",
    "\n",
    "cm = pd.crosstab(y_test, y_pred, rownames=['Actual'], colnames=['Predicted'], margins=False)\n",
    "\n",
    "#print('Result\\n')\n",
    "print(cm,'\\n')\n",
    "\n",
    "print(\"PPV:\",format(metrics.precision_score(y_test, y_pred), '.2f'))\n",
    "print(\"Accuracy:\",format(metrics.accuracy_score(y_test, y_pred),'.2f'))\n",
    "print(\"Recall:\",format(metrics.recall_score(y_test, y_pred), '.2f'))\n",
    "print(\"F1:\",format(metrics.f1_score(y_test, y_pred), '.2f'),'\\n')"
   ]
  },
  {
   "cell_type": "code",
   "execution_count": 5,
   "metadata": {
    "scrolled": true
   },
   "outputs": [],
   "source": [
    "def scale_features_single(X: pd.DataFrame) -> Tuple[pd.DataFrame, pd.DataFrame]:\n",
    "    \"\"\"\n",
    "    applies standard scaler (z-scores) to training data and predicts z-scores for the test set\n",
    "    \"\"\"\n",
    "    scaler = StandardScaler()\n",
    "    to_scale = [col for col in X.columns.values]\n",
    "    scaler.fit(X[to_scale])\n",
    "    X[to_scale] = scaler.transform(X[to_scale])\n",
    "    \n",
    "    return X\n",
    "      \n",
    "def classify_ext_data(input_csv, subset = \"none\"):      \n",
    "    ext_df = pd.read_csv(input_csv)\n",
    "    ext_df.fillna(-99999)\n",
    "    receptors = ext_df.Receptor\n",
    "    hits_actual = ext_df.Hits\n",
    "    score_types = ext_df['Score Type']\n",
    "    subsets = ext_df.subset\n",
    "    match_features = ext_df.match_features\n",
    "    init_ext_df = ext_df\n",
    "    \n",
    "    #check if a 'quality' column exists. one will not exist if classifying data with unknown enrichments.\n",
    "    if 'quality' not in ext_df:\n",
    "        ext_df = ext_df[['s_score','Hits', 'max_feat', 'avg_feat', 'max_centr', 'min_centr', 'avg_centr', 'features', 'all_same', 'hyd_prop', 'don_prop', 'catdon_prop', 'hydaro_prop', 'aniacc_prop']]\n",
    "        x = ext_df\n",
    "    else:\n",
    "        ext_df = ext_df[['s_score','Hits', 'max_feat', 'avg_feat', 'max_centr', 'min_centr', 'avg_centr', 'features', 'all_same', 'hyd_prop', 'don_prop', 'catdon_prop', 'hydaro_prop', 'aniacc_prop', 'quality']]   \n",
    "        x = ext_df.drop('quality', axis=1)\n",
    "        y = ext_df.quality\n",
    "    \n",
    "    predictors = list(ext_df.columns)\n",
    "    predictors = predictors[:-1]\n",
    "    print('Predictors:', predictors,'\\n')\n",
    "    \n",
    "    if 'quality' in init_ext_df:\n",
    "        print(\"score based Q ph4s:\", y.sum(),'\\n')\n",
    "    \n",
    "    X_scaled = scale_features_single(x)\n",
    "    ext_0 = X_scaled.copy()\n",
    "    if 'quality' in init_ext_df:\n",
    "        ext_0['y'] = y\n",
    "    \n",
    "    #add receptors, hits_actual, score type, and subset columns back prior to 0/1/2/3 split\n",
    "    ext_0['Receptor'] = receptors\n",
    "    ext_0['hits_actual'] = hits_actual\n",
    "    ext_0['Score Type'] = score_types\n",
    "    ext_0['subset'] = subsets\n",
    "    ext_0['match_features'] = match_features\n",
    "    \n",
    "    if 'quality' in init_ext_df:\n",
    "        y_ext_0 = ext_0.y.values\n",
    "    ext_0_receptors = ext_0.Receptor\n",
    "    ext_0_hits_actual = ext_0.hits_actual\n",
    "    ext_0_score_types = ext_0['Score Type']\n",
    "    ext_0_subsets = ext_0.subset\n",
    "    ext_0_match_features = ext_0.match_features\n",
    "\n",
    "    # drop the targets from each external set (if classifying known external data)\n",
    "    if 'quality' in init_ext_df:\n",
    "        X_ext_0 = ext_0.drop(columns=['y', 'Receptor', 'hits_actual', 'Score Type', 'subset', 'match_features'])\n",
    "    else:\n",
    "        X_ext_0 = ext_0.drop(columns=['Receptor', 'hits_actual', 'Score Type', 'subset', 'match_features'])\n",
    "    \n",
    "    #predict based on 0 cluster model\n",
    "    print('Classification Results\\n')\n",
    "    print('----------------------\\n')\n",
    "    if len(X_ext_0) == 0:\n",
    "        print('No data.\\n')\n",
    "    else:\n",
    "        y_pred = (sgdc.predict(X_ext_0))\n",
    "        if 'quality' in init_ext_df:\n",
    "            confmat = confusion_matrix(y_ext_0, y_pred, labels=[0,1])\n",
    "            confmat = confusion_matrix(y_ext_0, y_pred, labels=[0,1]).ravel()\n",
    "            FP = (confmat[1])\n",
    "            TP = (confmat[3])\n",
    "            PPV = (TP / (TP + FP))\n",
    "            cm = pd.crosstab(y_ext_0, y_pred, rownames=['Actual'], colnames=['Predicted'], margins=False)\n",
    "            print(cm,'\\n')\n",
    "            print('PPV:', format(PPV, '.2f'))\n",
    "            print(\"Accuracy:\",format(metrics.accuracy_score(y_ext_0, y_pred),'.2f'))\n",
    "            print(\"Recall:\",format(metrics.recall_score(y_ext_0, y_pred), '.2f'))\n",
    "            print(\"F1:\",format(metrics.f1_score(y_ext_0, y_pred), '.2f'),'\\n')\n",
    "        \n",
    "        X_ext_0['Receptor'] = ext_0_receptors\n",
    "        X_ext_0['hits_actual'] = ext_0_hits_actual\n",
    "        X_ext_0['Score Type'] = ext_0_score_types\n",
    "        X_ext_0['subset'] = ext_0_subsets\n",
    "        X_ext_0['match_features'] = ext_0_match_features\n",
    "        \n",
    "        if 'quality' in init_ext_df:\n",
    "            X_ext_0['quality'] = y_ext_0\n",
    "        \n",
    "        X_ext_0['quality_pred'] = y_pred\n",
    "        if 'quality' in init_ext_df:\n",
    "            X_ext_0.to_csv('results/'+subset+'/0cluster_results_singlemodel.csv')\n",
    "        if 'quality' not in init_ext_df:\n",
    "            print(X_ext_0.loc[X_ext_0['quality_pred'] == 1], '\\n')\n",
    "            ph4_preds = X_ext_0.loc[X_ext_0['quality_pred'] == 1]\n",
    "            ph4_preds.to_csv('predictions/0cluster_ph4_preds_singlemodel.csv')"
   ]
  },
  {
   "cell_type": "code",
   "execution_count": 6,
   "metadata": {
    "scrolled": true
   },
   "outputs": [
    {
     "name": "stdout",
     "output_type": "stream",
     "text": [
      "Predictors: ['s_score', 'Hits', 'max_feat', 'avg_feat', 'max_centr', 'min_centr', 'avg_centr', 'features', 'all_same', 'hyd_prop', 'don_prop', 'catdon_prop', 'hydaro_prop', 'aniacc_prop'] \n",
      "\n",
      "score based Q ph4s: 85 \n",
      "\n",
      "Classification Results\n",
      "\n",
      "----------------------\n",
      "\n",
      "Predicted    0   1\n",
      "Actual            \n",
      "0          112  63\n",
      "1           43  42 \n",
      "\n",
      "PPV: 0.40\n",
      "Accuracy: 0.59\n",
      "Recall: 0.49\n",
      "F1: 0.44 \n",
      "\n"
     ]
    }
   ],
   "source": [
    "classify_ext_data('..\\..\\data\\score_based_alldata_binary.csv', 'all')"
   ]
  },
  {
   "cell_type": "code",
   "execution_count": 7,
   "metadata": {
    "scrolled": false
   },
   "outputs": [
    {
     "name": "stdout",
     "output_type": "stream",
     "text": [
      "Predictors: ['s_score', 'Hits', 'max_feat', 'avg_feat', 'max_centr', 'min_centr', 'avg_centr', 'features', 'all_same', 'hyd_prop', 'don_prop', 'catdon_prop', 'hydaro_prop', 'aniacc_prop'] \n",
      "\n",
      "score based Q ph4s: 16 \n",
      "\n",
      "Classification Results\n",
      "\n",
      "----------------------\n",
      "\n",
      "Predicted   0   1\n",
      "Actual           \n",
      "0          24  12\n",
      "1           7   9 \n",
      "\n",
      "PPV: 0.43\n",
      "Accuracy: 0.63\n",
      "Recall: 0.56\n",
      "F1: 0.49 \n",
      "\n"
     ]
    }
   ],
   "source": [
    "classify_ext_data('..\\..\\data\\score_based_moefrags_data_binary.csv', 'moe')"
   ]
  },
  {
   "cell_type": "code",
   "execution_count": 8,
   "metadata": {
    "scrolled": false
   },
   "outputs": [
    {
     "name": "stdout",
     "output_type": "stream",
     "text": [
      "Predictors: ['s_score', 'Hits', 'max_feat', 'avg_feat', 'max_centr', 'min_centr', 'avg_centr', 'features', 'all_same', 'hyd_prop', 'don_prop', 'catdon_prop', 'hydaro_prop', 'aniacc_prop'] \n",
      "\n",
      "score based Q ph4s: 20 \n",
      "\n",
      "Classification Results\n",
      "\n",
      "----------------------\n",
      "\n",
      "Predicted   0   1\n",
      "Actual           \n",
      "0          20  12\n",
      "1          11   9 \n",
      "\n",
      "PPV: 0.43\n",
      "Accuracy: 0.56\n",
      "Recall: 0.45\n",
      "F1: 0.44 \n",
      "\n"
     ]
    }
   ],
   "source": [
    "classify_ext_data('..\\..\\data\\score_based_efdata_binary.csv', 'ef')"
   ]
  },
  {
   "cell_type": "code",
   "execution_count": 9,
   "metadata": {
    "scrolled": false
   },
   "outputs": [
    {
     "name": "stdout",
     "output_type": "stream",
     "text": [
      "Predictors: ['s_score', 'Hits', 'max_feat', 'avg_feat', 'max_centr', 'min_centr', 'avg_centr', 'features', 'all_same', 'hyd_prop', 'don_prop', 'catdon_prop', 'hydaro_prop', 'aniacc_prop'] \n",
      "\n",
      "score based Q ph4s: 21 \n",
      "\n",
      "Classification Results\n",
      "\n",
      "----------------------\n",
      "\n",
      "Predicted   0   1\n",
      "Actual           \n",
      "0          20  11\n",
      "1          12   9 \n",
      "\n",
      "PPV: 0.45\n",
      "Accuracy: 0.56\n",
      "Recall: 0.43\n",
      "F1: 0.44 \n",
      "\n"
     ]
    }
   ],
   "source": [
    "classify_ext_data('..\\..\\data\\score_based_ghdata_binary.csv', 'gh')"
   ]
  },
  {
   "cell_type": "code",
   "execution_count": 10,
   "metadata": {
    "scrolled": true
   },
   "outputs": [
    {
     "name": "stdout",
     "output_type": "stream",
     "text": [
      "Predictors: ['s_score', 'Hits', 'max_feat', 'avg_feat', 'max_centr', 'min_centr', 'avg_centr', 'features', 'all_same', 'hyd_prop', 'don_prop', 'catdon_prop', 'hydaro_prop', 'aniacc_prop'] \n",
      "\n",
      "score based Q ph4s: 13 \n",
      "\n",
      "Classification Results\n",
      "\n",
      "----------------------\n",
      "\n",
      "Predicted   0   1\n",
      "Actual           \n",
      "0          24  15\n",
      "1           4   9 \n",
      "\n",
      "PPV: 0.38\n",
      "Accuracy: 0.63\n",
      "Recall: 0.69\n",
      "F1: 0.49 \n",
      "\n"
     ]
    }
   ],
   "source": [
    "classify_ext_data('..\\..\\data\\score_based_recefdata_binary.csv', 'rec_ef')"
   ]
  },
  {
   "cell_type": "code",
   "execution_count": 11,
   "metadata": {
    "scrolled": true
   },
   "outputs": [
    {
     "name": "stdout",
     "output_type": "stream",
     "text": [
      "Predictors: ['s_score', 'Hits', 'max_feat', 'avg_feat', 'max_centr', 'min_centr', 'avg_centr', 'features', 'all_same', 'hyd_prop', 'don_prop', 'catdon_prop', 'hydaro_prop', 'aniacc_prop'] \n",
      "\n",
      "score based Q ph4s: 15 \n",
      "\n",
      "Classification Results\n",
      "\n",
      "----------------------\n",
      "\n",
      "Predicted   0   1\n",
      "Actual           \n",
      "0          24  13\n",
      "1          10   5 \n",
      "\n",
      "PPV: 0.28\n",
      "Accuracy: 0.56\n",
      "Recall: 0.33\n",
      "F1: 0.30 \n",
      "\n"
     ]
    }
   ],
   "source": [
    "classify_ext_data('..\\..\\data\\score_based_recghdata_binary.csv', 'rec_gh')"
   ]
  },
  {
   "cell_type": "code",
   "execution_count": 12,
   "metadata": {
    "scrolled": true
   },
   "outputs": [
    {
     "name": "stdout",
     "output_type": "stream",
     "text": [
      "Predictors: ['s_score', 'Hits', 'max_feat', 'avg_feat', 'max_centr', 'min_centr', 'avg_centr', 'features', 'all_same', 'hyd_prop', 'don_prop', 'catdon_prop', 'hydaro_prop', 'aniacc_prop'] \n",
      "\n",
      "score based Q ph4s: 58 \n",
      "\n",
      "Classification Results\n",
      "\n",
      "----------------------\n",
      "\n",
      "Predicted    0   1\n",
      "Actual            \n",
      "0          132  70\n",
      "1           33  25 \n",
      "\n",
      "PPV: 0.26\n",
      "Accuracy: 0.60\n",
      "Recall: 0.43\n",
      "F1: 0.33 \n",
      "\n"
     ]
    }
   ],
   "source": [
    "classify_ext_data('..\\..\\data\\hm_score_based_alldata_binary.csv', 'hm_all')"
   ]
  },
  {
   "cell_type": "code",
   "execution_count": 13,
   "metadata": {
    "scrolled": false
   },
   "outputs": [
    {
     "name": "stdout",
     "output_type": "stream",
     "text": [
      "Predictors: ['s_score', 'Hits', 'max_feat', 'avg_feat', 'max_centr', 'min_centr', 'avg_centr', 'features', 'all_same', 'hyd_prop', 'don_prop', 'catdon_prop', 'hydaro_prop', 'aniacc_prop'] \n",
      "\n",
      "score based Q ph4s: 9 \n",
      "\n",
      "Classification Results\n",
      "\n",
      "----------------------\n",
      "\n",
      "Predicted   0   1\n",
      "Actual           \n",
      "0          31  12\n",
      "1           5   4 \n",
      "\n",
      "PPV: 0.25\n",
      "Accuracy: 0.67\n",
      "Recall: 0.44\n",
      "F1: 0.32 \n",
      "\n"
     ]
    }
   ],
   "source": [
    "classify_ext_data('..\\..\\data\\hm_score_based_moefrags_data_binary.csv', 'hm_moe')"
   ]
  },
  {
   "cell_type": "code",
   "execution_count": 14,
   "metadata": {
    "scrolled": true
   },
   "outputs": [
    {
     "name": "stdout",
     "output_type": "stream",
     "text": [
      "Predictors: ['s_score', 'Hits', 'max_feat', 'avg_feat', 'max_centr', 'min_centr', 'avg_centr', 'features', 'all_same', 'hyd_prop', 'don_prop', 'catdon_prop', 'hydaro_prop', 'aniacc_prop'] \n",
      "\n",
      "score based Q ph4s: 11 \n",
      "\n",
      "Classification Results\n",
      "\n",
      "----------------------\n",
      "\n",
      "Predicted   0   1\n",
      "Actual           \n",
      "0          26  15\n",
      "1           6   5 \n",
      "\n",
      "PPV: 0.25\n",
      "Accuracy: 0.60\n",
      "Recall: 0.45\n",
      "F1: 0.32 \n",
      "\n"
     ]
    }
   ],
   "source": [
    "classify_ext_data('..\\..\\data\\hm_score_based_efdata_binary.csv', 'hm_ef')"
   ]
  },
  {
   "cell_type": "code",
   "execution_count": 15,
   "metadata": {
    "scrolled": false
   },
   "outputs": [
    {
     "name": "stdout",
     "output_type": "stream",
     "text": [
      "Predictors: ['s_score', 'Hits', 'max_feat', 'avg_feat', 'max_centr', 'min_centr', 'avg_centr', 'features', 'all_same', 'hyd_prop', 'don_prop', 'catdon_prop', 'hydaro_prop', 'aniacc_prop'] \n",
      "\n",
      "score based Q ph4s: 11 \n",
      "\n",
      "Classification Results\n",
      "\n",
      "----------------------\n",
      "\n",
      "Predicted   0   1\n",
      "Actual           \n",
      "0          29  12\n",
      "1           7   4 \n",
      "\n",
      "PPV: 0.25\n",
      "Accuracy: 0.63\n",
      "Recall: 0.36\n",
      "F1: 0.30 \n",
      "\n"
     ]
    }
   ],
   "source": [
    "classify_ext_data('..\\..\\data\\hm_score_based_ghdata_binary.csv', 'hm_gh')"
   ]
  },
  {
   "cell_type": "code",
   "execution_count": 16,
   "metadata": {
    "scrolled": false
   },
   "outputs": [
    {
     "name": "stdout",
     "output_type": "stream",
     "text": [
      "Predictors: ['s_score', 'Hits', 'max_feat', 'avg_feat', 'max_centr', 'min_centr', 'avg_centr', 'features', 'all_same', 'hyd_prop', 'don_prop', 'catdon_prop', 'hydaro_prop', 'aniacc_prop'] \n",
      "\n",
      "score based Q ph4s: 15 \n",
      "\n",
      "Classification Results\n",
      "\n",
      "----------------------\n",
      "\n",
      "Predicted   0   1\n",
      "Actual           \n",
      "0          25  12\n",
      "1           9   6 \n",
      "\n",
      "PPV: 0.33\n",
      "Accuracy: 0.60\n",
      "Recall: 0.40\n",
      "F1: 0.36 \n",
      "\n"
     ]
    }
   ],
   "source": [
    "classify_ext_data('..\\..\\data\\hm_score_based_recefdata_binary.csv', 'hm_rec_ef')"
   ]
  },
  {
   "cell_type": "code",
   "execution_count": 17,
   "metadata": {
    "scrolled": true
   },
   "outputs": [
    {
     "name": "stdout",
     "output_type": "stream",
     "text": [
      "Predictors: ['s_score', 'Hits', 'max_feat', 'avg_feat', 'max_centr', 'min_centr', 'avg_centr', 'features', 'all_same', 'hyd_prop', 'don_prop', 'catdon_prop', 'hydaro_prop', 'aniacc_prop'] \n",
      "\n",
      "score based Q ph4s: 12 \n",
      "\n",
      "Classification Results\n",
      "\n",
      "----------------------\n",
      "\n",
      "Predicted   0   1\n",
      "Actual           \n",
      "0          27  13\n",
      "1           7   5 \n",
      "\n",
      "PPV: 0.28\n",
      "Accuracy: 0.62\n",
      "Recall: 0.42\n",
      "F1: 0.33 \n",
      "\n"
     ]
    }
   ],
   "source": [
    "classify_ext_data('..\\..\\data\\hm_score_based_recghdata_binary.csv', 'hm_rec_gh')"
   ]
  },
  {
   "cell_type": "code",
   "execution_count": 18,
   "metadata": {
    "scrolled": false
   },
   "outputs": [
    {
     "name": "stdout",
     "output_type": "stream",
     "text": [
      "Predictors: ['s_score', 'Hits', 'max_feat', 'avg_feat', 'max_centr', 'min_centr', 'avg_centr', 'features', 'all_same', 'hyd_prop', 'don_prop', 'catdon_prop', 'hydaro_prop'] \n",
      "\n",
      "Classification Results\n",
      "\n",
      "----------------------\n",
      "\n",
      "     s_score      Hits  max_feat  avg_feat  max_centr  min_centr  avg_centr  \\\n",
      "9   0.529199  1.867722 -0.433811 -0.772172   0.614168  -0.484577   0.668287   \n",
      "21 -0.111182 -0.696069  1.111583  0.981812   0.880114   0.461244   1.079794   \n",
      "24  0.872532 -0.501221  1.387788  1.793672   0.982683   1.138647   0.830567   \n",
      "25  0.521481 -0.644793  1.452955  1.898732   0.684034   0.461244   0.476928   \n",
      "26  1.108816  1.119095  0.453813  0.111265   1.208540   1.138647   1.409090   \n",
      "27 -1.825249 -0.675559 -1.138959 -0.990683  -0.166530   1.446139   0.624721   \n",
      "28  0.958453  1.478026  0.207928  0.386664   0.982683   0.795748   0.637593   \n",
      "29 -0.067695 -0.706324  1.321852  0.493215   1.120982   0.899270   1.359525   \n",
      "30  1.103565  2.195887 -0.924910 -0.929552   0.758520   1.138647   1.239829   \n",
      "31 -2.228094 -0.716580 -1.190992 -1.417069  -0.082406   1.746374   0.734849   \n",
      "34  1.102065 -0.326883 -0.829841 -1.293656   1.080552   1.060087   1.587528   \n",
      "35 -1.557031 -0.716580 -1.408463 -1.414096  -0.166530   1.446139   0.544820   \n",
      "36  1.079562 -0.521732  1.303617  1.503630   0.801243   1.141080   1.069268   \n",
      "37  0.030912 -0.716580  1.321852  1.108692   1.120982   0.899270   1.204100   \n",
      "38  1.108816 -0.490966  1.365084  1.092282   1.159411   1.998179   1.529503   \n",
      "39 -2.897466 -0.716580  1.060777  2.030102   0.880114   0.787123   0.783496   \n",
      "\n",
      "    features  all_same  hyd_prop  don_prop  catdon_prop  hydaro_prop  \\\n",
      "9        0.0 -0.538816 -0.226463  1.905159    -0.580584     3.590924   \n",
      "21       0.0 -0.538816 -0.226463 -0.816497     0.561548     1.538968   \n",
      "24       0.0 -0.538816 -0.226463  0.544331    -0.961295    -0.512989   \n",
      "25       0.0 -0.538816 -0.703229  0.544331    -0.580584     1.538968   \n",
      "26       0.0  1.855921  2.157362 -0.816497    -0.961295    -0.512989   \n",
      "27       0.0 -0.538816 -0.703229 -0.816497     1.322970    -0.512989   \n",
      "28       0.0 -0.538816 -0.226463  0.544331    -0.961295     1.538968   \n",
      "29       0.0 -0.538816 -0.703229 -0.816497     0.942259     1.538968   \n",
      "30       0.0  1.855921  2.157362 -0.816497    -0.961295    -0.512989   \n",
      "31       0.0 -0.538816 -1.179994  1.905159     0.180838    -0.512989   \n",
      "34       0.0  1.855921  2.157362 -0.816497    -0.961295    -0.512989   \n",
      "35       0.0 -0.538816 -0.703229 -0.816497     1.322970    -0.512989   \n",
      "36       0.0 -0.538816  1.680597 -0.816497    -0.961295    -0.512989   \n",
      "37       0.0 -0.538816 -0.703229 -0.816497     0.942259    -0.512989   \n",
      "38       0.0  1.855921  2.157362 -0.816497    -0.961295    -0.512989   \n",
      "39       0.0  1.855921 -1.179994 -0.816497     1.703681    -0.512989   \n",
      "\n",
      "    aniacc_prop              Receptor  hits_actual Score Type    subset  \\\n",
      "9     -0.267261    GPR101_4MQS_active          252         dE        gh   \n",
      "21    -0.267261  GPR101_5ZKC_inactive            2         dE  moefrags   \n",
      "24    -0.267261  GPR101_5ZKC_inactive           21  dE(class)        ef   \n",
      "25    -0.267261  GPR101_5ZKC_inactive            7         dE        ef   \n",
      "26    -0.267261  GPR101_5ZKC_inactive          179  dU(class)        ef   \n",
      "27    -0.267261  GPR101_5ZKC_inactive            4         dU        ef   \n",
      "28    -0.267261  GPR101_5ZKC_inactive          214  dE(class)        gh   \n",
      "29    -0.267261  GPR101_5ZKC_inactive            1         dE        gh   \n",
      "30    -0.267261  GPR101_5ZKC_inactive          284  dU(class)        gh   \n",
      "31    -0.267261  GPR101_5ZKC_inactive            0         dU        gh   \n",
      "34    -0.267261  GPR101_5ZKC_inactive           38  dU(class)    rec_ef   \n",
      "35    -0.267261  GPR101_5ZKC_inactive            0         dU    rec_ef   \n",
      "36    -0.267261  GPR101_5ZKC_inactive           19  dE(class)    rec_gh   \n",
      "37    -0.267261  GPR101_5ZKC_inactive            0         dE    rec_gh   \n",
      "38    -0.267261  GPR101_5ZKC_inactive           22  dU(class)    rec_gh   \n",
      "39    -0.267261  GPR101_5ZKC_inactive            0         dU    rec_gh   \n",
      "\n",
      "    match_features  quality_pred  \n",
      "9                5             1  \n",
      "21               5             1  \n",
      "24               5             1  \n",
      "25               5             1  \n",
      "26               5             1  \n",
      "27               5             1  \n",
      "28               5             1  \n",
      "29               5             1  \n",
      "30               5             1  \n",
      "31               5             1  \n",
      "34               5             1  \n",
      "35               5             1  \n",
      "36               5             1  \n",
      "37               5             1  \n",
      "38               5             1  \n",
      "39               5             1   \n",
      "\n"
     ]
    }
   ],
   "source": [
    "classify_ext_data('..\\..\\data\\gpr101_data_binary_5feats.csv')"
   ]
  },
  {
   "cell_type": "code",
   "execution_count": 19,
   "metadata": {
    "scrolled": true
   },
   "outputs": [
    {
     "name": "stdout",
     "output_type": "stream",
     "text": [
      "Predictors: ['s_score', 'Hits', 'max_feat', 'avg_feat', 'max_centr', 'min_centr', 'avg_centr', 'features', 'all_same', 'hyd_prop', 'don_prop', 'catdon_prop', 'hydaro_prop'] \n",
      "\n",
      "Classification Results\n",
      "\n",
      "----------------------\n",
      "\n",
      "     s_score      Hits  max_feat  avg_feat  max_centr  min_centr  avg_centr  \\\n",
      "9   0.529199  1.756811 -0.433811 -0.772172   0.614168  -0.484577   0.668287   \n",
      "21 -0.111182 -0.647949  1.111583  0.981812   0.880114   0.461244   1.079794   \n",
      "24  0.872532 -0.247156  1.387788  1.793672   0.982683   1.138647   0.830567   \n",
      "25  0.521481 -0.514352  1.452955  1.898732   0.684034   0.461244   0.476928   \n",
      "26  1.108816  1.756811  0.453813  0.111265   1.208540   1.138647   1.409090   \n",
      "27 -1.825249 -0.647949 -1.138959 -0.990683  -0.166530   1.446139   0.624721   \n",
      "28  0.958453  1.222420  0.207928  0.386664   0.982683   0.795748   0.637593   \n",
      "29 -0.067695 -0.647949  1.321852  0.493215   1.120982   0.899270   1.359525   \n",
      "30  1.103565  3.760779 -0.924910 -0.929552   0.758520   1.138647   1.239829   \n",
      "31 -2.228094 -0.647949 -1.190992 -1.417069  -0.082406   1.746374   0.734849   \n",
      "34  1.102065 -0.380754 -0.829841 -1.293656   1.080552   1.060087   1.587528   \n",
      "35 -1.557031 -0.647949 -1.408463 -1.414096  -0.166530   1.446139   0.544820   \n",
      "36  1.079562 -0.380754  1.303617  1.503630   0.801243   1.141080   1.069268   \n",
      "37  0.030912 -0.647949  1.321852  1.108692   1.120982   0.899270   1.204100   \n",
      "38  1.108816 -0.247156  1.365084  1.092282   1.159411   1.998179   1.529503   \n",
      "39 -2.897466 -0.647949  1.060777  2.030102   0.880114   0.787123   0.783496   \n",
      "\n",
      "    features  all_same  hyd_prop  don_prop  catdon_prop  hydaro_prop  \\\n",
      "9        0.0 -0.538816 -0.226463  1.905159    -0.580584     3.590924   \n",
      "21       0.0 -0.538816 -0.226463 -0.816497     0.561548     1.538968   \n",
      "24       0.0 -0.538816 -0.226463  0.544331    -0.961295    -0.512989   \n",
      "25       0.0 -0.538816 -0.703229  0.544331    -0.580584     1.538968   \n",
      "26       0.0  1.855921  2.157362 -0.816497    -0.961295    -0.512989   \n",
      "27       0.0 -0.538816 -0.703229 -0.816497     1.322970    -0.512989   \n",
      "28       0.0 -0.538816 -0.226463  0.544331    -0.961295     1.538968   \n",
      "29       0.0 -0.538816 -0.703229 -0.816497     0.942259     1.538968   \n",
      "30       0.0  1.855921  2.157362 -0.816497    -0.961295    -0.512989   \n",
      "31       0.0 -0.538816 -1.179994  1.905159     0.180838    -0.512989   \n",
      "34       0.0  1.855921  2.157362 -0.816497    -0.961295    -0.512989   \n",
      "35       0.0 -0.538816 -0.703229 -0.816497     1.322970    -0.512989   \n",
      "36       0.0 -0.538816  1.680597 -0.816497    -0.961295    -0.512989   \n",
      "37       0.0 -0.538816 -0.703229 -0.816497     0.942259    -0.512989   \n",
      "38       0.0  1.855921  2.157362 -0.816497    -0.961295    -0.512989   \n",
      "39       0.0  1.855921 -1.179994 -0.816497     1.703681    -0.512989   \n",
      "\n",
      "    aniacc_prop              Receptor  hits_actual Score Type    subset  \\\n",
      "9     -0.267261    GPR101_4MQS_active           18         dE        gh   \n",
      "21    -0.267261  GPR101_5ZKC_inactive            0         dE  moefrags   \n",
      "24    -0.267261  GPR101_5ZKC_inactive            3  dE(class)        ef   \n",
      "25    -0.267261  GPR101_5ZKC_inactive            1         dE        ef   \n",
      "26    -0.267261  GPR101_5ZKC_inactive           18  dU(class)        ef   \n",
      "27    -0.267261  GPR101_5ZKC_inactive            0         dU        ef   \n",
      "28    -0.267261  GPR101_5ZKC_inactive           14  dE(class)        gh   \n",
      "29    -0.267261  GPR101_5ZKC_inactive            0         dE        gh   \n",
      "30    -0.267261  GPR101_5ZKC_inactive           33  dU(class)        gh   \n",
      "31    -0.267261  GPR101_5ZKC_inactive            0         dU        gh   \n",
      "34    -0.267261  GPR101_5ZKC_inactive            2  dU(class)    rec_ef   \n",
      "35    -0.267261  GPR101_5ZKC_inactive            0         dU    rec_ef   \n",
      "36    -0.267261  GPR101_5ZKC_inactive            2  dE(class)    rec_gh   \n",
      "37    -0.267261  GPR101_5ZKC_inactive            0         dE    rec_gh   \n",
      "38    -0.267261  GPR101_5ZKC_inactive            3  dU(class)    rec_gh   \n",
      "39    -0.267261  GPR101_5ZKC_inactive            0         dU    rec_gh   \n",
      "\n",
      "    match_features  quality_pred  \n",
      "9                6             1  \n",
      "21               6             1  \n",
      "24               6             1  \n",
      "25               6             1  \n",
      "26               6             1  \n",
      "27               6             1  \n",
      "28               6             1  \n",
      "29               6             1  \n",
      "30               6             1  \n",
      "31               6             1  \n",
      "34               6             1  \n",
      "35               6             1  \n",
      "36               6             1  \n",
      "37               6             1  \n",
      "38               6             1  \n",
      "39               6             1   \n",
      "\n"
     ]
    }
   ],
   "source": [
    "classify_ext_data('..\\..\\data\\gpr101_data_binary_6feats.csv')"
   ]
  },
  {
   "cell_type": "code",
   "execution_count": 20,
   "metadata": {},
   "outputs": [
    {
     "ename": "NameError",
     "evalue": "name 'sgdc0' is not defined",
     "output_type": "error",
     "traceback": [
      "\u001b[1;31m---------------------------------------------------------------------------\u001b[0m",
      "\u001b[1;31mNameError\u001b[0m                                 Traceback (most recent call last)",
      "\u001b[1;32m~\\AppData\\Local\\Temp/ipykernel_16648/2955040622.py\u001b[0m in \u001b[0;36m<module>\u001b[1;34m\u001b[0m\n\u001b[0;32m      3\u001b[0m \u001b[1;32mfrom\u001b[0m \u001b[0mjoblib\u001b[0m \u001b[1;32mimport\u001b[0m \u001b[0mdump\u001b[0m\u001b[1;33m,\u001b[0m \u001b[0mload\u001b[0m\u001b[1;33m\u001b[0m\u001b[1;33m\u001b[0m\u001b[0m\n\u001b[0;32m      4\u001b[0m \u001b[1;33m\u001b[0m\u001b[0m\n\u001b[1;32m----> 5\u001b[1;33m \u001b[0mjoblib\u001b[0m\u001b[1;33m.\u001b[0m\u001b[0mdump\u001b[0m\u001b[1;33m(\u001b[0m\u001b[0msgdc0\u001b[0m \u001b[1;33m,\u001b[0m \u001b[1;34m'models/model_sgdc_singular'\u001b[0m\u001b[1;33m)\u001b[0m\u001b[1;33m\u001b[0m\u001b[1;33m\u001b[0m\u001b[0m\n\u001b[0m",
      "\u001b[1;31mNameError\u001b[0m: name 'sgdc0' is not defined"
     ]
    }
   ],
   "source": [
    "#save models\n",
    "import joblib\n",
    "from joblib import dump, load\n",
    "\n",
    "joblib.dump(sgdc0 , 'models/model_sgdc_singular')"
   ]
  },
  {
   "cell_type": "code",
   "execution_count": null,
   "metadata": {},
   "outputs": [],
   "source": []
  },
  {
   "cell_type": "code",
   "execution_count": null,
   "metadata": {},
   "outputs": [],
   "source": []
  }
 ],
 "metadata": {
  "kernelspec": {
   "display_name": "Python 3 (ipykernel)",
   "language": "python",
   "name": "python3"
  },
  "language_info": {
   "codemirror_mode": {
    "name": "ipython",
    "version": 3
   },
   "file_extension": ".py",
   "mimetype": "text/x-python",
   "name": "python",
   "nbconvert_exporter": "python",
   "pygments_lexer": "ipython3",
   "version": "3.9.7"
  }
 },
 "nbformat": 4,
 "nbformat_minor": 4
}
